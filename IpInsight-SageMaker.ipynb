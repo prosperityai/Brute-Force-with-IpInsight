{
 "cells": [
  {
   "cell_type": "markdown",
   "id": "d29b9118",
   "metadata": {},
   "source": [
    "1.Replace prefix with S3 prefix\n",
    "\n",
    "2.Key should be the key path of s3 bucket with training data\n",
    "\n",
    "3.You can change Training instance type if you need faster training\n",
    "\n",
    "4.You can view and test endpoint\n",
    "\n",
    "5.Batch transform works to get prediction for the input data specify the S3 prefix with data to run inference with."
   ]
  },
  {
   "cell_type": "code",
   "execution_count": 9,
   "id": "3783ecd3",
   "metadata": {},
   "outputs": [],
   "source": [
    "import boto3\n",
    "import botocore\n",
    "import os\n",
    "import sagemaker\n",
    "\n",
    "\n",
    "bucket = sagemaker.Session().default_bucket()\n",
    "\"\"\"Put the bucket prefix on prefix\"\"\"\n",
    "prefix = \"\"\n",
    "execution_role = sagemaker.get_execution_role()\n",
    "region = boto3.Session().region_name\n",
    "\n",
    "# check if the bucket exists\n",
    "try:\n",
    "    boto3.Session().client(\"s3\").head_bucket(Bucket=bucket)\n",
    "except botocore.exceptions.ParamValidationError as e:\n",
    "    print(\n",
    "        \"Hey! You either forgot to specify your S3 bucket or you gave your bucket an invalid name!\"\n",
    "    )\n",
    "except botocore.exceptions.ClientError as e:\n",
    "    if e.response[\"Error\"][\"Code\"] == \"403\":\n",
    "        print(f\"Hey! You don't have permission to access the bucket, {bucket}.\")\n",
    "    elif e.response[\"Error\"][\"Code\"] == \"404\":\n",
    "        print(f\"Hey! Your bucket, {bucket}, doesn't exist!\")\n",
    "    else:\n",
    "#         raise\n",
    "else:\n",
    "    print(f\"Training input/output will be stored in: s3://{bucket}/{prefix}\")"
   ]
  },
  {
   "cell_type": "code",
   "execution_count": 13,
   "id": "8d7e0b0b",
   "metadata": {},
   "outputs": [],
   "source": [
    "#Change Train Data to the train file name ,assuming train.csv\n",
    "train_data_file = \"train.csv\"\n",
    "\"\"\"Key Should be full path of the train data file\"\"\"\n",
    "key = sagemaker/ipinsight-uae/train/train.csv\n",
    "s3_train_data = f\"s3://{bucket}/{key}\"\n",
    "print(f\"S3 Train Data is {s3_train_data}\")\n",
    "boto3.resource(\"s3\").Bucket(bucket).Object(key).put(Body=train_data_file)\n",
    "\n",
    "# Configure SageMaker IP Insights Input Channels\n",
    "input_data = {\n",
    "    \"train\": sagemaker.session.s3_input(\n",
    "        s3_train_data, distribution=\"FullyReplicated\", content_type=\"text/csv\"\n",
    "    )\n",
    "}\n"
   ]
  },
  {
   "cell_type": "code",
   "execution_count": 11,
   "id": "0d1dc984",
   "metadata": {},
   "outputs": [],
   "source": [
    "from sagemaker.amazon.amazon_estimator import get_image_uri\n",
    "\n",
    "image = get_image_uri(boto3.Session().region_name, \"ipinsights\")"
   ]
  },
  {
   "cell_type": "code",
   "execution_count": 8,
   "id": "0128905f",
   "metadata": {},
   "outputs": [],
   "source": [
    "# Set up the estimator with training job configuration\n",
    "ip_insights = sagemaker.estimator.Estimator(\n",
    "    image,\n",
    "    execution_role,\n",
    "    instance_count=1,\n",
    "    instance_type=\"ml.m5.2xlarge\",\n",
    "    output_path=f\"s3://{bucket}/{prefix}/output\",\n",
    "    sagemaker_session=sagemaker.Session(),\n",
    ")\n",
    "\n",
    "# Configure algorithm-specific hyperparameters\n",
    "ip_insights.set_hyperparameters(\n",
    "    num_entity_vectors=\"20000\",\n",
    "    random_negative_sampling_rate=\"5\",\n",
    "    vector_dim=\"128\",\n",
    "    mini_batch_size=\"1000\",\n",
    "    epochs=\"5\",\n",
    "    learning_rate=\"0.01\",\n",
    ")\n",
    "\n",
    "# Start the training job (should take about ~ loong time / epoch to complete)\n",
    "ip_insights.fit(input_data)"
   ]
  },
  {
   "cell_type": "code",
   "execution_count": null,
   "id": "1fb8eeb2",
   "metadata": {},
   "outputs": [],
   "source": [
    "#Verify Training Job is complete\n",
    "print(f\"Training job name: {ip_insights.latest_training_job.job_name}\")\n"
   ]
  },
  {
   "cell_type": "code",
   "execution_count": null,
   "id": "2c6f475c",
   "metadata": {},
   "outputs": [],
   "source": [
    "#Deploy End point\n",
    "predictor = ip_insights.deploy(initial_instance_count=1, instance_type=\"ml.m5.xlarge\")\n"
   ]
  },
  {
   "cell_type": "code",
   "execution_count": null,
   "id": "6da1f9f3",
   "metadata": {},
   "outputs": [],
   "source": [
    "#Verify Endpoint\n",
    "print(f\"Endpoint name: {predictor.endpoint}\")\n"
   ]
  },
  {
   "cell_type": "code",
   "execution_count": null,
   "id": "d36e72ee",
   "metadata": {},
   "outputs": [],
   "source": [
    "from sagemaker.predictor import csv_serializer, json_deserializer\n",
    "\n",
    "predictor.serializer = csv_serializer\n",
    "predictor.deserializer = json_deserializer"
   ]
  },
  {
   "cell_type": "code",
   "execution_count": null,
   "id": "38b78c8f",
   "metadata": {},
   "outputs": [],
   "source": [
    "inference_data = [(data[0], data[1]) for data in train_df[:5].values]\n",
    "predictor.predict(\n",
    "    inference_data, \n",
    "    initial_args={\"ContentType\": \"text/csv\", \"Accept\": \"application/json\"}\n",
    ")"
   ]
  },
  {
   "cell_type": "code",
   "execution_count": null,
   "id": "a421e004",
   "metadata": {},
   "outputs": [],
   "source": [
    "#Use the input data to run inference call eg , valid.csv\n",
    "validation_data_file = \"valid.csv\"\n",
    "\"\"\"Key full patch of validation csv\"\"\"\n",
    "key = 'sagemaker/ipinsight-uae/validation/valid.csv'\n",
    "boto3.resource(\"s3\").Bucket(bucket).Object(key).put(Body=valid_data)\n",
    "s3_valid_data = f\"s3://{bucket}/{key}\"\n",
    "\n",
    "# Configure SageMaker IP Insights Input Channels\n",
    "input_data = {\"train\": s3_train_data, \"validation\": s3_valid_data}"
   ]
  },
  {
   "cell_type": "code",
   "execution_count": null,
   "id": "72049e31",
   "metadata": {},
   "outputs": [],
   "source": [
    "#Batch Transform\n",
    "\n",
    "\n",
    "transformer = ip_insights.transformer(instance_count=1, instance_type=\"ml.m5.2xlarge\")\n",
    "\n",
    "\n",
    "transformer.transform(s3_valid_data,\n",
    "                      content_type=\"text/csv\", \n",
    "                      split_type=\"Line\")"
   ]
  },
  {
   "cell_type": "code",
   "execution_count": null,
   "id": "8bb81675",
   "metadata": {},
   "outputs": [],
   "source": [
    "test = ip_insights.transformer()"
   ]
  },
  {
   "cell_type": "code",
   "execution_count": null,
   "id": "545b9936",
   "metadata": {},
   "outputs": [],
   "source": [
    "# Wait for Transform Job to finish\n",
    "transformer.wait()"
   ]
  },
  {
   "cell_type": "code",
   "execution_count": null,
   "id": "177dc05d",
   "metadata": {},
   "outputs": [],
   "source": [
    "print(f\"Batch Transform output is at: {transformer.output_path}\")\n"
   ]
  }
 ],
 "metadata": {
  "kernelspec": {
   "display_name": "conda_python3",
   "language": "python",
   "name": "conda_python3"
  },
  "language_info": {
   "codemirror_mode": {
    "name": "ipython",
    "version": 3
   },
   "file_extension": ".py",
   "mimetype": "text/x-python",
   "name": "python",
   "nbconvert_exporter": "python",
   "pygments_lexer": "ipython3",
   "version": "3.6.13"
  }
 },
 "nbformat": 4,
 "nbformat_minor": 5
}
